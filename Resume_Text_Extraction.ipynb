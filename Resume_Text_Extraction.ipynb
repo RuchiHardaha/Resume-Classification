{
 "cells": [
  {
   "cell_type": "markdown",
   "id": "ac2205c9",
   "metadata": {},
   "source": [
    "# Importing libraries"
   ]
  },
  {
   "cell_type": "code",
   "execution_count": 1,
   "id": "7d7de9cc",
   "metadata": {},
   "outputs": [],
   "source": [
    "#!pip install textract\n",
    "#!pip install pdf2docx"
   ]
  },
  {
   "cell_type": "code",
   "execution_count": 2,
   "id": "64be8a61",
   "metadata": {},
   "outputs": [],
   "source": [
    "import re\n",
    "import glob\n",
    "import win32com.client\n",
    "\n",
    "\n",
    "import pandas as pd\n",
    "import numpy as np\n",
    "import os\n",
    "\n",
    "import textract\n",
    "from pdf2docx import parse"
   ]
  },
  {
   "cell_type": "code",
   "execution_count": 3,
   "id": "fd26a523",
   "metadata": {},
   "outputs": [],
   "source": [
    "#base directory path\n",
    "base_directory=\"C:/Users/Navya/Documents/Anaconda_Python/Resume Classification/Resumes/\"\n"
   ]
  },
  {
   "cell_type": "markdown",
   "id": "1d4a0830",
   "metadata": {},
   "source": [
    "# Converting Doc to Docx"
   ]
  },
  {
   "cell_type": "code",
   "execution_count": 4,
   "id": "4d886bbc",
   "metadata": {},
   "outputs": [],
   "source": [
    "#As we have some .doc and .pdf files we need to convert them in .docx format in order to read them\n",
    "def doc_docx_converter(directory):\n",
    "    try:\n",
    "        word = win32com.client.Dispatch(\"Word.Application\")\n",
    "\n",
    "        #Getting list of sub folders in base directory\n",
    "        list_of_directory= os.listdir(directory)\n",
    "\n",
    "        for dir in list_of_directory:\n",
    "\n",
    "            sub_directory=base_directory + dir +'/'\n",
    "\n",
    "            for i, doc in enumerate(glob.iglob(sub_directory + \"*.doc\")):\n",
    "                word = win32com.client.Dispatch(\"Word.Application\")\n",
    "                in_file = os.path.abspath(doc)\n",
    "                wb = word.Documents.Open(in_file)\n",
    "                out_file = re.sub(r'\\.\\w+$', '.docx', in_file)\n",
    "                wb.SaveAs2(out_file, FileFormat=16) # file format for docx\n",
    "                wb.Close()\n",
    "\n",
    "        word.Quit()\n",
    "    except Exception as e:\n",
    "        print('Error occurred : ', e)"
   ]
  },
  {
   "cell_type": "markdown",
   "id": "80c095f5",
   "metadata": {},
   "source": [
    "# Converting pdf to Docx file\n",
    "\n"
   ]
  },
  {
   "cell_type": "code",
   "execution_count": 5,
   "id": "9fe22e6a",
   "metadata": {},
   "outputs": [],
   "source": [
    "def pdf_docx_converter(directory):\n",
    "    try:\n",
    "\n",
    "        #Getting list of sub folders in base directory\n",
    "        list_of_directory= os.listdir(directory)\n",
    "\n",
    "        for dir in list_of_directory:\n",
    "\n",
    "            sub_directory=base_directory + dir +'/'\n",
    "\n",
    "            for docfile in os.listdir(sub_directory):\n",
    "                #if docfile.endswith('.docx') or docfile.endswith('.doc') or docfile.endswith('.pdf'):\n",
    "                if docfile.endswith('.pdf'):\n",
    "                    #FileName\n",
    "\n",
    "                    pdf_name = os.path.join(sub_directory, docfile)\n",
    "                    docx_name = re.sub(r'\\.\\w+$', '.docx', pdf_name)\n",
    "\n",
    "                    #Converting\n",
    "                    parse(pdf_name, docx_name, start=0, end=None)\n",
    "    except Exception as e:\n",
    "        print('Error occurred : ', e)"
   ]
  },
  {
   "cell_type": "markdown",
   "id": "9a3c7bcf",
   "metadata": {},
   "source": [
    "# Converting and Deleting the Original Doc & pdf file"
   ]
  },
  {
   "cell_type": "code",
   "execution_count": 6,
   "id": "07c907a6",
   "metadata": {},
   "outputs": [
    {
     "name": "stderr",
     "output_type": "stream",
     "text": [
      "[INFO] Start to convert C:/Users/Navya/Documents/Anaconda_Python/Resume Classification/Resumes/React JS Developer/Reactjs Developer_Prabakaran_Musquare Technologies.pdf\n",
      "[INFO] \u001b[1;36m[1/4] Opening document...\u001b[0m\n",
      "[INFO] \u001b[1;36m[2/4] Analyzing document...\u001b[0m\n",
      "[INFO] \u001b[1;36m[3/4] Parsing pages...\u001b[0m\n",
      "[INFO] (1/2) Page 1\n",
      "[INFO] (2/2) Page 2\n",
      "[INFO] \u001b[1;36m[4/4] Creating pages...\u001b[0m\n",
      "[INFO] (1/2) Page 1\n",
      "[INFO] (2/2) Page 2\n",
      "[INFO] Terminated in 5.50s.\n"
     ]
    }
   ],
   "source": [
    "#Calling function to convert .doc file to .docx file\n",
    "doc_docx_converter(base_directory)\n",
    "\n",
    "#Calling function to convert .pdf file to .docx file\n",
    "pdf_docx_converter(base_directory)\n",
    "\n",
    "#Deleting the old files\n",
    "list_of_directory= os.listdir(base_directory)\n",
    "\n",
    "try:    \n",
    "    for dir in list_of_directory:\n",
    "\n",
    "        sub_directory=base_directory + dir +'/'\n",
    "\n",
    "        for docfile in os.listdir(sub_directory):\n",
    "\n",
    "            file_name = os.path.join(sub_directory, docfile)\n",
    "            if docfile.endswith(\".doc\"):\n",
    "                os.remove(file_name)\n",
    "            elif docfile.endswith(\".pdf\"):\n",
    "                os.remove(file_name)\n",
    "except Exception as e:\n",
    "        print('Error occurred : ', e)"
   ]
  },
  {
   "cell_type": "markdown",
   "id": "d72d881e",
   "metadata": {},
   "source": [
    "# Reading Documents"
   ]
  },
  {
   "cell_type": "code",
   "execution_count": 7,
   "id": "3ab899d0",
   "metadata": {},
   "outputs": [],
   "source": [
    "def ReadDocuments(directory) :\n",
    "    file_path = []\n",
    "    category  = []\n",
    "    document_text=[]\n",
    "    document_data=pd.DataFrame()\n",
    "    try:\n",
    "        #Getting list of sub folders in base directory\n",
    "        list_of_directory= os.listdir(directory)\n",
    "        print('Sub Directories found : ', list_of_directory)\n",
    "        for dir in list_of_directory:\n",
    "\n",
    "            sub_directory=base_directory + dir +'/'\n",
    "\n",
    "            for docfile in os.listdir(sub_directory):\n",
    "                #if docfile.endswith('.docx') or docfile.endswith('.doc') or docfile.endswith('.pdf'):\n",
    "                if docfile.endswith('.docx'):\n",
    "                #full file path\n",
    "                    doc_file_path=os.path.join(sub_directory, docfile)\n",
    "\n",
    "                    #Reading the document text        \n",
    "                    raw_text=textract.process(doc_file_path).decode('utf-8')\n",
    "\n",
    "                    #Appending text, category and file path into list for each file  \n",
    "                    document_text.append(raw_text)\n",
    "                    category.append(dir)\n",
    "                    file_path.append(doc_file_path)\n",
    "                else :\n",
    "                  pass\n",
    "\n",
    "        #Creating DataFrame  \n",
    "        \n",
    "        document_data['File_Path']=file_path\n",
    "        \n",
    "        document_data['Resume_Text']=document_text  \n",
    "        \n",
    "        document_data['Category']=category\n",
    "    except Exception as e:\n",
    "        print('Error occurred : ', e)\n",
    "    return document_data"
   ]
  },
  {
   "cell_type": "code",
   "execution_count": 8,
   "id": "e485265d",
   "metadata": {},
   "outputs": [
    {
     "name": "stdout",
     "output_type": "stream",
     "text": [
      "Sub Directories found :  ['Peoplesoft', 'React JS Developer', 'SQL Developer', 'Workday']\n"
     ]
    },
    {
     "data": {
      "text/html": [
       "<div>\n",
       "<style scoped>\n",
       "    .dataframe tbody tr th:only-of-type {\n",
       "        vertical-align: middle;\n",
       "    }\n",
       "\n",
       "    .dataframe tbody tr th {\n",
       "        vertical-align: top;\n",
       "    }\n",
       "\n",
       "    .dataframe thead th {\n",
       "        text-align: right;\n",
       "    }\n",
       "</style>\n",
       "<table border=\"1\" class=\"dataframe\">\n",
       "  <thead>\n",
       "    <tr style=\"text-align: right;\">\n",
       "      <th></th>\n",
       "      <th>File_Path</th>\n",
       "      <th>Resume_Text</th>\n",
       "      <th>Category</th>\n",
       "    </tr>\n",
       "  </thead>\n",
       "  <tbody>\n",
       "    <tr>\n",
       "      <th>0</th>\n",
       "      <td>C:/Users/Navya/Documents/Anaconda_Python/Resum...</td>\n",
       "      <td>Anubhav Kumar Singh\\t\\t\\n\\n\\n\\nCore Competenci...</td>\n",
       "      <td>Peoplesoft</td>\n",
       "    </tr>\n",
       "    <tr>\n",
       "      <th>1</th>\n",
       "      <td>C:/Users/Navya/Documents/Anaconda_Python/Resum...</td>\n",
       "      <td>G. Ananda Rayudu \\n\\n\\t\\t       https://www.li...</td>\n",
       "      <td>Peoplesoft</td>\n",
       "    </tr>\n",
       "    <tr>\n",
       "      <th>2</th>\n",
       "      <td>C:/Users/Navya/Documents/Anaconda_Python/Resum...</td>\n",
       "      <td>PeopleSoft Database Administrator\\n\\n         ...</td>\n",
       "      <td>Peoplesoft</td>\n",
       "    </tr>\n",
       "    <tr>\n",
       "      <th>3</th>\n",
       "      <td>C:/Users/Navya/Documents/Anaconda_Python/Resum...</td>\n",
       "      <td>Classification: Internal\\n\\nClassification: In...</td>\n",
       "      <td>Peoplesoft</td>\n",
       "    </tr>\n",
       "    <tr>\n",
       "      <th>4</th>\n",
       "      <td>C:/Users/Navya/Documents/Anaconda_Python/Resum...</td>\n",
       "      <td>Priyanka Ramadoss\\n\\n\\t61/46, MountPleasant, \\...</td>\n",
       "      <td>Peoplesoft</td>\n",
       "    </tr>\n",
       "  </tbody>\n",
       "</table>\n",
       "</div>"
      ],
      "text/plain": [
       "                                           File_Path  \\\n",
       "0  C:/Users/Navya/Documents/Anaconda_Python/Resum...   \n",
       "1  C:/Users/Navya/Documents/Anaconda_Python/Resum...   \n",
       "2  C:/Users/Navya/Documents/Anaconda_Python/Resum...   \n",
       "3  C:/Users/Navya/Documents/Anaconda_Python/Resum...   \n",
       "4  C:/Users/Navya/Documents/Anaconda_Python/Resum...   \n",
       "\n",
       "                                         Resume_Text    Category  \n",
       "0  Anubhav Kumar Singh\\t\\t\\n\\n\\n\\nCore Competenci...  Peoplesoft  \n",
       "1  G. Ananda Rayudu \\n\\n\\t\\t       https://www.li...  Peoplesoft  \n",
       "2  PeopleSoft Database Administrator\\n\\n         ...  Peoplesoft  \n",
       "3  Classification: Internal\\n\\nClassification: In...  Peoplesoft  \n",
       "4  Priyanka Ramadoss\\n\\n\\t61/46, MountPleasant, \\...  Peoplesoft  "
      ]
     },
     "execution_count": 8,
     "metadata": {},
     "output_type": "execute_result"
    }
   ],
   "source": [
    "#DataSet\n",
    "resume_data=ReadDocuments(base_directory)\n",
    "resume_data.head()"
   ]
  },
  {
   "cell_type": "code",
   "execution_count": 9,
   "id": "8689925c",
   "metadata": {},
   "outputs": [
    {
     "name": "stdout",
     "output_type": "stream",
     "text": [
      "<class 'pandas.core.frame.DataFrame'>\n",
      "RangeIndex: 79 entries, 0 to 78\n",
      "Data columns (total 3 columns):\n",
      " #   Column       Non-Null Count  Dtype \n",
      "---  ------       --------------  ----- \n",
      " 0   File_Path    79 non-null     object\n",
      " 1   Resume_Text  79 non-null     object\n",
      " 2   Category     79 non-null     object\n",
      "dtypes: object(3)\n",
      "memory usage: 2.0+ KB\n"
     ]
    }
   ],
   "source": [
    "resume_data.info()"
   ]
  },
  {
   "cell_type": "code",
   "execution_count": 11,
   "id": "15f97171",
   "metadata": {},
   "outputs": [
    {
     "data": {
      "text/plain": [
       "'Anubhav Kumar Singh\\t\\t\\n\\n\\n\\nCore Competencies:\\n\\n\\n\\nScripting\\t\\t: Shell Scripting\\n\\n\\n\\nApplication\\t\\t: PeopleSoft HCM, FINANCIALS\\n\\n\\n\\nOperating System\\t: Linux ,Windows\\n\\n\\n\\nWeb/App Servers\\t: Weblogic, Tuxedo\\n\\n\\n\\nRDBMS\\t\\t: Oracle\\n\\n\\n\\nRepository \\t\\t: Github\\n\\n\\n\\nCore Competencies:\\n\\n\\n\\nScripting\\t\\t: Shell Scripting\\n\\n\\n\\nApplication\\t\\t: PeopleSoft HCM, FINANCIALS\\n\\n\\n\\nOperating System\\t: Linux ,Windows\\n\\n\\n\\nWeb/App Servers\\t: Weblogic, Tuxedo\\n\\n\\n\\nRDBMS\\t\\t: Oracle\\n\\n\\n\\nRepository \\t\\t: Github\\n\\n\\n\\n  To work in a globally competitive environment on \\n\\n  challenging assignments that shall yield the \\n\\n  twin benefits of the job satisfaction and a steady-paced \\n\\n  professional growth.\\n\\n\\n\\n\\n\\n\\n\\n\\n\\n\\n\\n\\n\\n \\n\\n\\n\\n\\n\\n \\n\\n\\n\\n\\n\\n Professional Experience\\n\\n\\n\\n 06/2019 - Current\\tHCL\\t\\t\\t\\t\\t\\t\\t\\t\\t\\t\\n\\n\\t\\t\\tCurrent Role: System Admin Offshore\\n\\n\\t\\t\\tSkills : Shell Scripting, Linux , PeopleSoft Administration , Github\\n\\n\\n\\nManaging PeopleSoft HCM and PeopleSoft FSCM production environments along with support environments installed on Linux and Windows OS.\\n\\nInvolved in Day to Day activities such as Project Migration, Database Refresh, System admin changes, Tax updates etc.\\n\\nTroubleshooting of various servers like application servers, Web Servers, Process Scheduler Servers.\\n\\nApplying Tuxedo and WebLogic Middleware CPU patches for various applications.\\n\\nWorking on shell scripting used as integration method for exchange of files to external systems\\n\\nInstallation and troubleshooting of 2-tier setup as per requirement.\\n\\nReviewing Vulnerabilities reported by Security Teams.\\n\\nRenewal of SSL in Weblogic.\\n\\nVulnerability remediation whenever a vulnerability is report by RMIS team.\\n\\nWorked on PUM (PeopleSoft Update Manager) and installation through DPK.\\n\\nWorking Knowledge of Ansible and Docker.\\n\\nDeveloping new Shell scripts and troubleshooting Shell Script failures.\\n\\n\\n\\n\\n\\n 07/2017- 06/2019\\tTechMahindra\\t\\t\\t\\t\\t\\t\\t\\t\\t\\n\\n\\t\\t\\tRole/Project: Application Support through Automation/Devops Tools and PeopleSoft Admin\\n\\n\\t\\t\\tSkills : Shell Scripting, Linux , PeopleSoft Administration, Jenkins, Ansible\\n\\n\\t\\t\\t\\n\\n\\t\\t\\tProject 1: People Tools 8.55 Upgrade & HCM 9.2 Application Upgrade\\n\\n\\t\\t\\tProject 2: Migration of Applications from NTT Cloud and On-premises to AWS Cloud\\n\\n\\n\\nWorked on shell scripting for various application requirement.\\n\\nWorking on Ansible and Jenkins to automated start/stop and various activities of application.\\n\\nBasic knowledge of Docker.\\n\\nApplying SSL certificates on new released applications.\\n\\nWorked on Elastic Search Configuration in PeopleSoft.\\n\\nGained knowledge in AWS Resources..\\n\\nStrong understanding of Unix architecture/Command and trouble shooting in Unix/Linux platform.\\n\\nEfficient in using Configuration Management & Deployment Tool like Ansible.\\n\\nGood experience in job scheduling via crontab and IBM Tivoli Workload Scheduler (TWS).\\n\\nHaving good knowledge in automation using shell scripting \\n\\nContinuous integration management using Jenkins, installing and configuring Jenkins.\\n\\nResponsible for writing Ansible playbook to perform various task\\n\\nManaged administration tasks installation, configuration, applications, troubleshooting, and performance related issue.\\n\\nApplying Tuxedo and WebLogic CPU patches for various applications.\\n\\nWorking on Vulnerabilities reported by Security Teams.\\n\\nReviewing the platform certification information of products, platforms, database servers, web and application servers, browsers, and other products for PeopleTools 8.55.\\n\\nServer Migration to AWS (Amazon Web Service).\\n\\nInstallation of PeopleSoft server components Application Servers, Process Scheduler Servers, Tuxedo, Web logic Servers for New release PeopleTools on Unix/Linux Servers.\\n\\nApplying latest patch to PeopleTools.\\n\\nInstalling and configuring Change assistant for various upgrade passes.\\n\\nCreating and running PeopleTools Upgrade Job for PeopleTools 8.55 Upgrade.\\n\\nSetting up Performance monitor.\\n\\nCreating new app, web and process scheduler domains post upgrade on new Linux severs.\\n\\nTroubleshooting common Domain boot problems.\\n\\nIdentifying and configuring source and target databases in CA for HCM 9.2 application upgrade.\\n\\nWorking with HCM PUM Images.\\n\\nCreating Change packages using PUM and applying to Source/Target databases as per requirement.\\n\\nCreating application upgrade job using change assistant.\\n\\n\\n\\n\\n\\n 09/2015 - 07/2017\\tSRDT Pvt Ltd. (SRM GROUP)\\n\\n\\t\\t\\tRole/Project: PeopleSoft application and Database Admin\\n\\n\\t\\t\\tSkills : PeopleSoft Administration, Weblogic, Tuxedo, App designer, PUM, PeopleTools \\t\\t\\t\\t\\tUpgrade, PeopleSoft Campus Application Upgrade.\\t\\t\\t\\n\\n\\n\\nMaintaining 7 Production Environments with 21 supporting environments installed on Windows server 2008 R2 and Oracle 11g.\\n\\nPossess through knowledge and experience in PeopleSoft architecture, administering PeopleSoft server components Application Servers, Process Scheduler Servers, Tuxedo, Web logic Servers, PIA (PeopleSoft Internet Architecture), Integration Broker, Report Nodes, application issues and technical issues.\\n\\nPeopleSoft Skills with experience in Migrations & Production support of PS Applications\\n\\nExposure in applying PeopleSoft Bundle Updates through Change Assistant.\\n\\nExposure in working on both Windows & UNIX/Linux Environments with Oracle database.\\n\\nWorking knowledge of integration broker.\\n\\nRefreshed Testing, DEV and Pre-PROD from PROD environments.\\n\\nExperience in Troubleshooting of various servers like application servers, Web Servers, Process Scheduler Servers.\\n\\nExperienced in providing 24/7 support on production and development environments.\\n\\nInstallation of Database Servers, Web servers and Application Server and PeopleSoft Application (HRMS 9.2,FSCM9.2, CS9.0, CS 9.2,HRMS 9.2) and People Tool (8.53,8.54, 8.55)\\n\\nInstalled and Configured SES (Secure Enterprise Search) for HRMS Instance.\\n\\nExperience in Installing Oracle Policy Automation, Oracle Policy Modelling and creating OPA Database in existing database (Oracle)\\n\\nImplemented Single Sign On between PeopleSoft Applications.\\n\\nImplemented PeopleSoft Interaction Hub to integrate external content and information with PeopleSoft applications.\\n\\nUpgraded People Tool 8.53 to 8.54 for Campus 9.0Production Environment.\\n\\nUpgraded People Tool 8.53 to 8.55 for Finance 9.2 Testing Environment.\\n\\nUpgraded application CS 9.0 to 9.2.\\n\\nConfigured PUM (PeopleSoft Update Manager) for every new Image.\\n\\nApplying Tax Updates, BUGS and Tailored Change Packages through PUM.\\n\\nUpgraded Oracle Database 11.2.0.1 to 11.2.0.4 using DBUA. \\n\\nCreated Instances on People Tools 8.55 to provide Testing environments.\\n\\nPrepared Upgrade Status reports and sheets.\\n\\nCo-ordinated and provided support for offshore projects.\\n\\nImported Self Signed Certificate into WebLogic to provide secure port access of Instances.\\n\\nSet up of Terminal Server to provide a Central access of People Tools for Technical/Developers.\\n\\nCreated tickets to development team and followed up with them to get the resolution for any error occurred. \\n\\n\\n\\n\\n\\n\\t\\t\\tProjects:\\n\\n\\n\\n\\t\\tClient: DRDO\\n\\n\\t\\tProject: Single Sign On\\n\\n\\t\\tRole: PeopleSoft Admin\\n\\n\\t\\tEnvironment: People Tool 8.50, HRMS 9.1, FSCM 9.1\\n\\n\\n\\n\\t\\tDescription:\\n\\n\\t\\tSingle sign-on (SSO) is a property of access control of multiple related, but independent software \\t\\t\\tsystems. With this property a user logs in with a single ID and password to gain access to a \\t\\t\\tconnected system or systems without using different usernames or passwords.\\n\\n\\n\\n\\n\\n\\t\\tClient: NetApp\\n\\n\\t\\tProject: Support and Maintenance\\n\\n\\t\\tRole: PeopleSoft Admin/L2 Support\\n\\n\\t\\tEnvironment: PeopleTool 8.49, HRMS 8.9\\n\\n\\n\\n\\t\\tDescription:\\n\\n\\t\\tHandled IB related issue.\\n\\n\\t\\tClear process scheduler cache as per weekly maintenance process.\\n\\n\\t\\tHandled PSADMIN related activities.\\n\\n\\n\\n\\n\\n 11/2013 - 05/2015\\tACS                                                                                                                           \\n\\n\\n\\n Personal Details\\n\\n\\n\\n\\n\\nFather’s name\\n\\nRajeev Kumar Singh\\n\\nDate of Birth\\n\\n11/09/1990\\n\\nSex\\n\\nMale\\n\\nLanguage (Read And Write)\\n\\nHindi, English\\n\\nReady to relocate\\n\\nYes\\n\\nEducation\\n\\nB.Tech in Electrical & Electronic Engineering 2012'"
      ]
     },
     "execution_count": 11,
     "metadata": {},
     "output_type": "execute_result"
    }
   ],
   "source": [
    "resume_data.Resume_Text[0]"
   ]
  },
  {
   "cell_type": "code",
   "execution_count": 10,
   "id": "34b2f1c9",
   "metadata": {},
   "outputs": [],
   "source": [
    "#Saving Dataset to csv file\n",
    "resume_data.to_csv('Resume_Data.csv', index=False)"
   ]
  },
  {
   "cell_type": "code",
   "execution_count": null,
   "id": "0ca1f8a1",
   "metadata": {},
   "outputs": [],
   "source": []
  }
 ],
 "metadata": {
  "kernelspec": {
   "display_name": "Python 3 (ipykernel)",
   "language": "python",
   "name": "python3"
  },
  "language_info": {
   "codemirror_mode": {
    "name": "ipython",
    "version": 3
   },
   "file_extension": ".py",
   "mimetype": "text/x-python",
   "name": "python",
   "nbconvert_exporter": "python",
   "pygments_lexer": "ipython3",
   "version": "3.11.4"
  }
 },
 "nbformat": 4,
 "nbformat_minor": 5
}
